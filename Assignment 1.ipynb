{
 "cells": [
  {
   "cell_type": "code",
   "execution_count": 2,
   "metadata": {},
   "outputs": [],
   "source": [
    "import pandas as pd"
   ]
  },
  {
   "cell_type": "code",
   "execution_count": 3,
   "metadata": {},
   "outputs": [],
   "source": [
    "PATH = '/Users/espen/Desktop/Open ML Course/Assignment 1/athlete_events.csv'"
   ]
  },
  {
   "cell_type": "code",
   "execution_count": 362,
   "metadata": {},
   "outputs": [
    {
     "data": {
      "text/html": [
       "<div>\n",
       "<style scoped>\n",
       "    .dataframe tbody tr th:only-of-type {\n",
       "        vertical-align: middle;\n",
       "    }\n",
       "\n",
       "    .dataframe tbody tr th {\n",
       "        vertical-align: top;\n",
       "    }\n",
       "\n",
       "    .dataframe thead th {\n",
       "        text-align: right;\n",
       "    }\n",
       "</style>\n",
       "<table border=\"1\" class=\"dataframe\">\n",
       "  <thead>\n",
       "    <tr style=\"text-align: right;\">\n",
       "      <th></th>\n",
       "      <th>ID</th>\n",
       "      <th>Name</th>\n",
       "      <th>Sex</th>\n",
       "      <th>Age</th>\n",
       "      <th>Height</th>\n",
       "      <th>Weight</th>\n",
       "      <th>Team</th>\n",
       "      <th>NOC</th>\n",
       "      <th>Games</th>\n",
       "      <th>Year</th>\n",
       "      <th>Season</th>\n",
       "      <th>City</th>\n",
       "      <th>Sport</th>\n",
       "      <th>Event</th>\n",
       "      <th>Medal</th>\n",
       "    </tr>\n",
       "  </thead>\n",
       "  <tbody>\n",
       "    <tr>\n",
       "      <th>0</th>\n",
       "      <td>1</td>\n",
       "      <td>A Dijiang</td>\n",
       "      <td>M</td>\n",
       "      <td>24.0</td>\n",
       "      <td>180.0</td>\n",
       "      <td>80.0</td>\n",
       "      <td>China</td>\n",
       "      <td>CHN</td>\n",
       "      <td>1992 Summer</td>\n",
       "      <td>1992</td>\n",
       "      <td>Summer</td>\n",
       "      <td>Barcelona</td>\n",
       "      <td>Basketball</td>\n",
       "      <td>Basketball Men's Basketball</td>\n",
       "      <td>NaN</td>\n",
       "    </tr>\n",
       "    <tr>\n",
       "      <th>1</th>\n",
       "      <td>2</td>\n",
       "      <td>A Lamusi</td>\n",
       "      <td>M</td>\n",
       "      <td>23.0</td>\n",
       "      <td>170.0</td>\n",
       "      <td>60.0</td>\n",
       "      <td>China</td>\n",
       "      <td>CHN</td>\n",
       "      <td>2012 Summer</td>\n",
       "      <td>2012</td>\n",
       "      <td>Summer</td>\n",
       "      <td>London</td>\n",
       "      <td>Judo</td>\n",
       "      <td>Judo Men's Extra-Lightweight</td>\n",
       "      <td>NaN</td>\n",
       "    </tr>\n",
       "    <tr>\n",
       "      <th>2</th>\n",
       "      <td>3</td>\n",
       "      <td>Gunnar Nielsen Aaby</td>\n",
       "      <td>M</td>\n",
       "      <td>24.0</td>\n",
       "      <td>NaN</td>\n",
       "      <td>NaN</td>\n",
       "      <td>Denmark</td>\n",
       "      <td>DEN</td>\n",
       "      <td>1920 Summer</td>\n",
       "      <td>1920</td>\n",
       "      <td>Summer</td>\n",
       "      <td>Antwerpen</td>\n",
       "      <td>Football</td>\n",
       "      <td>Football Men's Football</td>\n",
       "      <td>NaN</td>\n",
       "    </tr>\n",
       "    <tr>\n",
       "      <th>3</th>\n",
       "      <td>4</td>\n",
       "      <td>Edgar Lindenau Aabye</td>\n",
       "      <td>M</td>\n",
       "      <td>34.0</td>\n",
       "      <td>NaN</td>\n",
       "      <td>NaN</td>\n",
       "      <td>Denmark/Sweden</td>\n",
       "      <td>DEN</td>\n",
       "      <td>1900 Summer</td>\n",
       "      <td>1900</td>\n",
       "      <td>Summer</td>\n",
       "      <td>Paris</td>\n",
       "      <td>Tug-Of-War</td>\n",
       "      <td>Tug-Of-War Men's Tug-Of-War</td>\n",
       "      <td>Gold</td>\n",
       "    </tr>\n",
       "    <tr>\n",
       "      <th>4</th>\n",
       "      <td>5</td>\n",
       "      <td>Christine Jacoba Aaftink</td>\n",
       "      <td>F</td>\n",
       "      <td>21.0</td>\n",
       "      <td>185.0</td>\n",
       "      <td>82.0</td>\n",
       "      <td>Netherlands</td>\n",
       "      <td>NED</td>\n",
       "      <td>1988 Winter</td>\n",
       "      <td>1988</td>\n",
       "      <td>Winter</td>\n",
       "      <td>Calgary</td>\n",
       "      <td>Speed Skating</td>\n",
       "      <td>Speed Skating Women's 500 metres</td>\n",
       "      <td>NaN</td>\n",
       "    </tr>\n",
       "  </tbody>\n",
       "</table>\n",
       "</div>"
      ],
      "text/plain": [
       "   ID                      Name Sex   Age  Height  Weight            Team  \\\n",
       "0   1                 A Dijiang   M  24.0   180.0    80.0           China   \n",
       "1   2                  A Lamusi   M  23.0   170.0    60.0           China   \n",
       "2   3       Gunnar Nielsen Aaby   M  24.0     NaN     NaN         Denmark   \n",
       "3   4      Edgar Lindenau Aabye   M  34.0     NaN     NaN  Denmark/Sweden   \n",
       "4   5  Christine Jacoba Aaftink   F  21.0   185.0    82.0     Netherlands   \n",
       "\n",
       "   NOC        Games  Year  Season       City          Sport  \\\n",
       "0  CHN  1992 Summer  1992  Summer  Barcelona     Basketball   \n",
       "1  CHN  2012 Summer  2012  Summer     London           Judo   \n",
       "2  DEN  1920 Summer  1920  Summer  Antwerpen       Football   \n",
       "3  DEN  1900 Summer  1900  Summer      Paris     Tug-Of-War   \n",
       "4  NED  1988 Winter  1988  Winter    Calgary  Speed Skating   \n",
       "\n",
       "                              Event Medal  \n",
       "0       Basketball Men's Basketball   NaN  \n",
       "1      Judo Men's Extra-Lightweight   NaN  \n",
       "2           Football Men's Football   NaN  \n",
       "3       Tug-Of-War Men's Tug-Of-War  Gold  \n",
       "4  Speed Skating Women's 500 metres   NaN  "
      ]
     },
     "execution_count": 362,
     "metadata": {},
     "output_type": "execute_result"
    }
   ],
   "source": [
    "data = pd.read_csv(PATH)\n",
    "data.head()"
   ]
  },
  {
   "cell_type": "code",
   "execution_count": 342,
   "metadata": {},
   "outputs": [
    {
     "name": "stdout",
     "output_type": "stream",
     "text": [
      "Task 1\n",
      "Male min age: 11.0\n",
      "Female min age: 12.0\n"
     ]
    }
   ],
   "source": [
    "print(\"Task 1\")\n",
    "print(\"Male min age: \" +  str(data[(data['Year'] == 1992) & (data['Sex'] == 'M')]['Age'].min()))\n",
    "print(\"Female min age: \" +  str(data[(data['Year'] == 1992) & (data['Sex'] == 'F')]['Age'].min()))"
   ]
  },
  {
   "cell_type": "code",
   "execution_count": 116,
   "metadata": {},
   "outputs": [
    {
     "data": {
      "text/html": [
       "<div>\n",
       "<style scoped>\n",
       "    .dataframe tbody tr th:only-of-type {\n",
       "        vertical-align: middle;\n",
       "    }\n",
       "\n",
       "    .dataframe tbody tr th {\n",
       "        vertical-align: top;\n",
       "    }\n",
       "\n",
       "    .dataframe thead th {\n",
       "        text-align: right;\n",
       "    }\n",
       "</style>\n",
       "<table border=\"1\" class=\"dataframe\">\n",
       "  <thead>\n",
       "    <tr style=\"text-align: right;\">\n",
       "      <th></th>\n",
       "      <th>ID</th>\n",
       "      <th>Name</th>\n",
       "      <th>Sex</th>\n",
       "      <th>Age</th>\n",
       "      <th>Height</th>\n",
       "      <th>Weight</th>\n",
       "      <th>Team</th>\n",
       "      <th>NOC</th>\n",
       "      <th>Games</th>\n",
       "      <th>Year</th>\n",
       "      <th>Season</th>\n",
       "      <th>City</th>\n",
       "      <th>Sport</th>\n",
       "      <th>Event</th>\n",
       "      <th>Medal</th>\n",
       "    </tr>\n",
       "  </thead>\n",
       "  <tbody>\n",
       "    <tr>\n",
       "      <th>0</th>\n",
       "      <td>1</td>\n",
       "      <td>A Dijiang</td>\n",
       "      <td>M</td>\n",
       "      <td>24.0</td>\n",
       "      <td>180.0</td>\n",
       "      <td>80.0</td>\n",
       "      <td>China</td>\n",
       "      <td>CHN</td>\n",
       "      <td>1992 Summer</td>\n",
       "      <td>1992</td>\n",
       "      <td>Summer</td>\n",
       "      <td>Barcelona</td>\n",
       "      <td>Basketball</td>\n",
       "      <td>Basketball Men's Basketball</td>\n",
       "      <td>NaN</td>\n",
       "    </tr>\n",
       "    <tr>\n",
       "      <th>1</th>\n",
       "      <td>2</td>\n",
       "      <td>A Lamusi</td>\n",
       "      <td>M</td>\n",
       "      <td>23.0</td>\n",
       "      <td>170.0</td>\n",
       "      <td>60.0</td>\n",
       "      <td>China</td>\n",
       "      <td>CHN</td>\n",
       "      <td>2012 Summer</td>\n",
       "      <td>2012</td>\n",
       "      <td>Summer</td>\n",
       "      <td>London</td>\n",
       "      <td>Judo</td>\n",
       "      <td>Judo Men's Extra-Lightweight</td>\n",
       "      <td>NaN</td>\n",
       "    </tr>\n",
       "    <tr>\n",
       "      <th>2</th>\n",
       "      <td>3</td>\n",
       "      <td>Gunnar Nielsen Aaby</td>\n",
       "      <td>M</td>\n",
       "      <td>24.0</td>\n",
       "      <td>NaN</td>\n",
       "      <td>NaN</td>\n",
       "      <td>Denmark</td>\n",
       "      <td>DEN</td>\n",
       "      <td>1920 Summer</td>\n",
       "      <td>1920</td>\n",
       "      <td>Summer</td>\n",
       "      <td>Antwerpen</td>\n",
       "      <td>Football</td>\n",
       "      <td>Football Men's Football</td>\n",
       "      <td>NaN</td>\n",
       "    </tr>\n",
       "    <tr>\n",
       "      <th>3</th>\n",
       "      <td>4</td>\n",
       "      <td>Edgar Lindenau Aabye</td>\n",
       "      <td>M</td>\n",
       "      <td>34.0</td>\n",
       "      <td>NaN</td>\n",
       "      <td>NaN</td>\n",
       "      <td>Denmark/Sweden</td>\n",
       "      <td>DEN</td>\n",
       "      <td>1900 Summer</td>\n",
       "      <td>1900</td>\n",
       "      <td>Summer</td>\n",
       "      <td>Paris</td>\n",
       "      <td>Tug-Of-War</td>\n",
       "      <td>Tug-Of-War Men's Tug-Of-War</td>\n",
       "      <td>Gold</td>\n",
       "    </tr>\n",
       "    <tr>\n",
       "      <th>28</th>\n",
       "      <td>9</td>\n",
       "      <td>Antti Sami Aalto</td>\n",
       "      <td>M</td>\n",
       "      <td>26.0</td>\n",
       "      <td>186.0</td>\n",
       "      <td>96.0</td>\n",
       "      <td>Finland</td>\n",
       "      <td>FIN</td>\n",
       "      <td>2002 Winter</td>\n",
       "      <td>2002</td>\n",
       "      <td>Winter</td>\n",
       "      <td>Salt Lake City</td>\n",
       "      <td>Ice Hockey</td>\n",
       "      <td>Ice Hockey Men's Ice Hockey</td>\n",
       "      <td>NaN</td>\n",
       "    </tr>\n",
       "  </tbody>\n",
       "</table>\n",
       "</div>"
      ],
      "text/plain": [
       "    ID                  Name Sex   Age  Height  Weight            Team  NOC  \\\n",
       "0    1             A Dijiang   M  24.0   180.0    80.0           China  CHN   \n",
       "1    2              A Lamusi   M  23.0   170.0    60.0           China  CHN   \n",
       "2    3   Gunnar Nielsen Aaby   M  24.0     NaN     NaN         Denmark  DEN   \n",
       "3    4  Edgar Lindenau Aabye   M  34.0     NaN     NaN  Denmark/Sweden  DEN   \n",
       "28   9      Antti Sami Aalto   M  26.0   186.0    96.0         Finland  FIN   \n",
       "\n",
       "          Games  Year  Season            City       Sport  \\\n",
       "0   1992 Summer  1992  Summer       Barcelona  Basketball   \n",
       "1   2012 Summer  2012  Summer          London        Judo   \n",
       "2   1920 Summer  1920  Summer       Antwerpen    Football   \n",
       "3   1900 Summer  1900  Summer           Paris  Tug-Of-War   \n",
       "28  2002 Winter  2002  Winter  Salt Lake City  Ice Hockey   \n",
       "\n",
       "                           Event Medal  \n",
       "0    Basketball Men's Basketball   NaN  \n",
       "1   Judo Men's Extra-Lightweight   NaN  \n",
       "2        Football Men's Football   NaN  \n",
       "3    Tug-Of-War Men's Tug-Of-War  Gold  \n",
       "28   Ice Hockey Men's Ice Hockey   NaN  "
      ]
     },
     "execution_count": 116,
     "metadata": {},
     "output_type": "execute_result"
    }
   ],
   "source": [
    "data.drop_duplicates(subset = 'ID', keep = False, inplace = True)\n",
    "data.head()"
   ]
  },
  {
   "cell_type": "code",
   "execution_count": 345,
   "metadata": {},
   "outputs": [
    {
     "name": "stdout",
     "output_type": "stream",
     "text": [
      "Task 2\n",
      "2.5\n"
     ]
    }
   ],
   "source": [
    "print(\"Task 2\")\n",
    "all_players = data[(data['Year'] == 2012) & (data['Sex'] == 'M')]\n",
    "len1 = float(len(all_players['ID'].unique()))\n",
    "basket_players = all_players[all_players['Sport'] == 'Basketball']\n",
    "len2 = float(len(basket_players['ID'].unique()))\n",
    "print(round(len2/len1 * 100,1))"
   ]
  },
  {
   "cell_type": "code",
   "execution_count": 347,
   "metadata": {},
   "outputs": [
    {
     "name": "stdout",
     "output_type": "stream",
     "text": [
      "Task 3\n",
      "Mean: 171.8\n",
      "Std.dev: 6.5\n"
     ]
    }
   ],
   "source": [
    "print(\"Task 3\")\n",
    "print(\"Mean: \" +  str(round(data[(data['Year'] == 2000) & (data['Sex'] == 'F') & (data['Sport'] == 'Tennis')]['Height'].mean(), 1)))\n",
    "print(\"Std.dev: \" +  str(round(data[(data['Year'] == 2000) & (data['Sex'] == 'F') & (data['Sport'] == 'Tennis')]['Height'].std(), 1)))"
   ]
  },
  {
   "cell_type": "code",
   "execution_count": 349,
   "metadata": {},
   "outputs": [
    {
     "name": "stdout",
     "output_type": "stream",
     "text": [
      "Task 4\n"
     ]
    },
    {
     "data": {
      "text/plain": [
       "8102    Skeleton\n",
       "Name: Sport, dtype: object"
      ]
     },
     "execution_count": 349,
     "metadata": {},
     "output_type": "execute_result"
    }
   ],
   "source": [
    "print(\"Task 4\")\n",
    "data1 = data[(data['Year'] == 2006)].sort_values(by='Weight', ascending=False)\n",
    "data1[:1]['Sport']"
   ]
  },
  {
   "cell_type": "code",
   "execution_count": 352,
   "metadata": {},
   "outputs": [
    {
     "name": "stdout",
     "output_type": "stream",
     "text": [
      "Task 5\n",
      "2\n"
     ]
    }
   ],
   "source": [
    "print(\"Task 5\")\n",
    "print(len(data[(data['Name'] == 'John Aalberg')]['Year'].unique()))"
   ]
  },
  {
   "cell_type": "code",
   "execution_count": 199,
   "metadata": {},
   "outputs": [
    {
     "name": "stdout",
     "output_type": "stream",
     "text": [
      "Task 6\n",
      "2\n"
     ]
    }
   ],
   "source": [
    "print(\"Task 6\")\n",
    "print(len(data[(data['Year'] == 2008) & (data['Sport'] == 'Tennis') & (data['Medal'] == 'Gold') & (data['NOC'] == 'SUI')].index))"
   ]
  },
  {
   "cell_type": "code",
   "execution_count": 357,
   "metadata": {},
   "outputs": [
    {
     "name": "stdout",
     "output_type": "stream",
     "text": [
      "Task 7\n"
     ]
    },
    {
     "data": {
      "text/plain": [
       "NOC\n",
       "ESP    45\n",
       "ITA    72\n",
       "Name: Medal, dtype: int64"
      ]
     },
     "execution_count": 357,
     "metadata": {},
     "output_type": "execute_result"
    }
   ],
   "source": [
    "print(\"Task 7\")\n",
    "test = data[(data['Year'] == 2016) & (data['NOC'].isin(['ITA', 'ESP'])) & (data['Medal'].isin(['Gold', 'Silver', 'Bronze']))]\n",
    "test.groupby(by=['NOC'])['Medal'].count()"
   ]
  },
  {
   "cell_type": "code",
   "execution_count": 359,
   "metadata": {},
   "outputs": [
    {
     "name": "stdout",
     "output_type": "stream",
     "text": [
      "Task 8\n"
     ]
    },
    {
     "data": {
      "text/html": [
       "<div>\n",
       "<style scoped>\n",
       "    .dataframe tbody tr th:only-of-type {\n",
       "        vertical-align: middle;\n",
       "    }\n",
       "\n",
       "    .dataframe tbody tr th {\n",
       "        vertical-align: top;\n",
       "    }\n",
       "\n",
       "    .dataframe thead th {\n",
       "        text-align: right;\n",
       "    }\n",
       "</style>\n",
       "<table border=\"1\" class=\"dataframe\">\n",
       "  <thead>\n",
       "    <tr style=\"text-align: right;\">\n",
       "      <th></th>\n",
       "      <th>ID</th>\n",
       "      <th>Name</th>\n",
       "      <th>Sex</th>\n",
       "      <th>Age</th>\n",
       "      <th>Height</th>\n",
       "      <th>Weight</th>\n",
       "      <th>Team</th>\n",
       "      <th>NOC</th>\n",
       "      <th>Games</th>\n",
       "      <th>Year</th>\n",
       "      <th>Season</th>\n",
       "      <th>City</th>\n",
       "      <th>Sport</th>\n",
       "      <th>Event</th>\n",
       "      <th>Medal</th>\n",
       "    </tr>\n",
       "    <tr>\n",
       "      <th>age_bins</th>\n",
       "      <th></th>\n",
       "      <th></th>\n",
       "      <th></th>\n",
       "      <th></th>\n",
       "      <th></th>\n",
       "      <th></th>\n",
       "      <th></th>\n",
       "      <th></th>\n",
       "      <th></th>\n",
       "      <th></th>\n",
       "      <th></th>\n",
       "      <th></th>\n",
       "      <th></th>\n",
       "      <th></th>\n",
       "      <th></th>\n",
       "    </tr>\n",
       "  </thead>\n",
       "  <tbody>\n",
       "    <tr>\n",
       "      <th>(15, 24]</th>\n",
       "      <td>127854</td>\n",
       "      <td>127854</td>\n",
       "      <td>127854</td>\n",
       "      <td>127854</td>\n",
       "      <td>104614</td>\n",
       "      <td>103343</td>\n",
       "      <td>127854</td>\n",
       "      <td>127854</td>\n",
       "      <td>127854</td>\n",
       "      <td>127854</td>\n",
       "      <td>127854</td>\n",
       "      <td>127854</td>\n",
       "      <td>127854</td>\n",
       "      <td>127854</td>\n",
       "      <td>17644</td>\n",
       "    </tr>\n",
       "    <tr>\n",
       "      <th>(24, 34]</th>\n",
       "      <td>110991</td>\n",
       "      <td>110991</td>\n",
       "      <td>110991</td>\n",
       "      <td>110991</td>\n",
       "      <td>91359</td>\n",
       "      <td>90437</td>\n",
       "      <td>110991</td>\n",
       "      <td>110991</td>\n",
       "      <td>110991</td>\n",
       "      <td>110991</td>\n",
       "      <td>110991</td>\n",
       "      <td>110991</td>\n",
       "      <td>110991</td>\n",
       "      <td>110991</td>\n",
       "      <td>18306</td>\n",
       "    </tr>\n",
       "    <tr>\n",
       "      <th>(34, 44]</th>\n",
       "      <td>15111</td>\n",
       "      <td>15111</td>\n",
       "      <td>15111</td>\n",
       "      <td>15111</td>\n",
       "      <td>9663</td>\n",
       "      <td>9288</td>\n",
       "      <td>15111</td>\n",
       "      <td>15111</td>\n",
       "      <td>15111</td>\n",
       "      <td>15111</td>\n",
       "      <td>15111</td>\n",
       "      <td>15111</td>\n",
       "      <td>15111</td>\n",
       "      <td>15111</td>\n",
       "      <td>2261</td>\n",
       "    </tr>\n",
       "    <tr>\n",
       "      <th>(44, 55]</th>\n",
       "      <td>3377</td>\n",
       "      <td>3377</td>\n",
       "      <td>3377</td>\n",
       "      <td>3377</td>\n",
       "      <td>1436</td>\n",
       "      <td>1360</td>\n",
       "      <td>3377</td>\n",
       "      <td>3377</td>\n",
       "      <td>3377</td>\n",
       "      <td>3377</td>\n",
       "      <td>3377</td>\n",
       "      <td>3377</td>\n",
       "      <td>3377</td>\n",
       "      <td>3377</td>\n",
       "      <td>458</td>\n",
       "    </tr>\n",
       "  </tbody>\n",
       "</table>\n",
       "</div>"
      ],
      "text/plain": [
       "              ID    Name     Sex     Age  Height  Weight    Team     NOC  \\\n",
       "age_bins                                                                   \n",
       "(15, 24]  127854  127854  127854  127854  104614  103343  127854  127854   \n",
       "(24, 34]  110991  110991  110991  110991   91359   90437  110991  110991   \n",
       "(34, 44]   15111   15111   15111   15111    9663    9288   15111   15111   \n",
       "(44, 55]    3377    3377    3377    3377    1436    1360    3377    3377   \n",
       "\n",
       "           Games    Year  Season    City   Sport   Event  Medal  \n",
       "age_bins                                                         \n",
       "(15, 24]  127854  127854  127854  127854  127854  127854  17644  \n",
       "(24, 34]  110991  110991  110991  110991  110991  110991  18306  \n",
       "(34, 44]   15111   15111   15111   15111   15111   15111   2261  \n",
       "(44, 55]    3377    3377    3377    3377    3377    3377    458  "
      ]
     },
     "execution_count": 359,
     "metadata": {},
     "output_type": "execute_result"
    }
   ],
   "source": [
    "print(\"Task 8\")\n",
    "data['age_bins'] = pd.cut(x=data['Age'], bins=[15, 24, 34, 44, 55])\n",
    "data.groupby(by=['age_bins']).count()"
   ]
  },
  {
   "cell_type": "code",
   "execution_count": 361,
   "metadata": {},
   "outputs": [
    {
     "name": "stdout",
     "output_type": "stream",
     "text": [
      "Task 9\n",
      "Yes\n",
      "Yes\n"
     ]
    }
   ],
   "source": [
    "print(\"Task 9\")\n",
    "Atlanta = data[data['City'].str.contains('Atlanta')]\n",
    "SquawValley = data[data['City'].str.contains('Squaw Valley')]\n",
    "if len(Atlanta):\n",
    "    print(\"Yes\")\n",
    "else:\n",
    "    print(\"No\")\n",
    "if len(SquawValley):\n",
    "    print(\"Yes\")\n",
    "else:\n",
    "    print(\"No\")"
   ]
  },
  {
   "cell_type": "code",
   "execution_count": 363,
   "metadata": {},
   "outputs": [
    {
     "name": "stdout",
     "output_type": "stream",
     "text": [
      "Task 10\n",
      "15\n"
     ]
    }
   ],
   "source": [
    "print(\"Task 10\")\n",
    "First = len(data[(data['Year'] == 1986)])\n",
    "Second = len(data[(data['Year'] == 2002)]['Sport'].unique())\n",
    "print(abs(Second-First))"
   ]
  },
  {
   "cell_type": "code",
   "execution_count": null,
   "metadata": {},
   "outputs": [],
   "source": []
  }
 ],
 "metadata": {
  "kernelspec": {
   "display_name": "Python 2",
   "language": "python",
   "name": "python2"
  },
  "language_info": {
   "codemirror_mode": {
    "name": "ipython",
    "version": 2
   },
   "file_extension": ".py",
   "mimetype": "text/x-python",
   "name": "python",
   "nbconvert_exporter": "python",
   "pygments_lexer": "ipython2",
   "version": "2.7.16"
  }
 },
 "nbformat": 4,
 "nbformat_minor": 2
}
